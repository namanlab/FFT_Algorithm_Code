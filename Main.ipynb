{
 "cells": [
  {
   "cell_type": "markdown",
   "id": "38e796b4-29eb-4e3f-a2df-3ad7c0030353",
   "metadata": {},
   "source": [
    "# Simple DFT"
   ]
  },
  {
   "cell_type": "code",
   "execution_count": 1,
   "id": "5d6602ec-dcdc-4a81-a9d5-ba9a9e71370c",
   "metadata": {},
   "outputs": [
    {
     "data": {
      "text/plain": [
       "[(23+0j),\n",
       " (-8.70711-0.70711j),\n",
       " (10+5j),\n",
       " (-7.29289-0.70711j),\n",
       " (-3-0j),\n",
       " (-7.29289+0.70711j),\n",
       " (10-5j),\n",
       " (-8.70711+0.70711j)]"
      ]
     },
     "execution_count": 1,
     "metadata": {},
     "output_type": "execute_result"
    }
   ],
   "source": [
    "import numpy as np\n",
    "\n",
    "def simple_dft(signal):\n",
    "    # Get the number of samples in the signal\n",
    "    N = len(signal)\n",
    "    \n",
    "    # Initialize an empty list to store the result (DFT coefficients)\n",
    "    res = []\n",
    "    \n",
    "    # Iterate over each frequency bin (k)\n",
    "    for k in range(N):\n",
    "        # Initialize the current DFT coefficient for the given frequency bin\n",
    "        cur_value = 0\n",
    "        \n",
    "        # Iterate over each sample in the signal (j)\n",
    "        for j in range(N):\n",
    "            # Calculate the complex exponential term and accumulate\n",
    "            cur_value += signal[j] * np.exp(-2 * np.pi * 1j * j * k / N)\n",
    "        \n",
    "        # Append the result for the current frequency bin to the list\n",
    "        res.append(np.round(cur_value, 5))\n",
    "    \n",
    "    # Return the list of DFT coefficients\n",
    "    return res\n",
    "\n",
    "simple_dft([1, 2, 0, 5, 9, 2, 0, 4])"
   ]
  },
  {
   "cell_type": "code",
   "execution_count": 2,
   "id": "bb5a8457-b8de-43b5-adc2-f7534011a513",
   "metadata": {},
   "outputs": [
    {
     "name": "stdout",
     "output_type": "stream",
     "text": [
      "True\n"
     ]
    }
   ],
   "source": [
    "# Compute the FFT using NumPy's fft function\n",
    "a = np.fft.fft([1, 2, 0, 5, 9, 2, 0, 4])\n",
    "\n",
    "# Compute the DFT using our simple_dft function\n",
    "b = simple_dft([1, 2, 0, 5, 9, 2, 0, 4])\n",
    "\n",
    "# Check if the results are element-wise close within a tolerance\n",
    "print(np.allclose(a, b))"
   ]
  },
  {
   "cell_type": "code",
   "execution_count": 11,
   "id": "dec1f3f7-7a34-4ca3-a5a4-010188f8ca48",
   "metadata": {},
   "outputs": [
    {
     "name": "stdout",
     "output_type": "stream",
     "text": [
      "it took 0.000463s\n",
      "it took 0.000166s\n"
     ]
    }
   ],
   "source": [
    "import time\n",
    "\n",
    "start = time.time()\n",
    "simple_dft([1, 2, 0, 5, 9, 2, 0, 4])\n",
    "print(\"it took %fs\"%(time.time() - start))\n",
    "\n",
    "start = time.time()\n",
    "np.fft.fft([1, 2, 0, 5, 9, 2, 0, 4])\n",
    "print(\"it took %fs\"%(time.time() - start))"
   ]
  },
  {
   "cell_type": "markdown",
   "id": "6ed6ba8b-ea3d-4d68-9bfa-c7c7000fffc1",
   "metadata": {},
   "source": [
    "# FFT"
   ]
  },
  {
   "cell_type": "code",
   "execution_count": 38,
   "id": "34ef739d-f4b9-4176-bc34-340abd5a506c",
   "metadata": {},
   "outputs": [
    {
     "data": {
      "text/plain": [
       "[(23+0j),\n",
       " (-8.70711-0.70711j),\n",
       " (10+5j),\n",
       " (-7.29289-0.70711j),\n",
       " (-3-0j),\n",
       " (-7.29289+0.70711j),\n",
       " (10-5j),\n",
       " (-8.70711+0.70711j)]"
      ]
     },
     "execution_count": 38,
     "metadata": {},
     "output_type": "execute_result"
    }
   ],
   "source": [
    "import numpy as np\n",
    "\n",
    "def nice_fft(signal):\n",
    "    # Get the number of samples in the signal\n",
    "    N = len(signal)\n",
    "    \n",
    "    # Base case: if the signal has only 1 samples, use simple_dft\n",
    "    if N == 1:\n",
    "        return simple_dft(signal)\n",
    "    else:\n",
    "        # Initialize an empty list to store the result (DFT coefficients)\n",
    "        res = []\n",
    "        \n",
    "        # Separate the signal into even and odd terms\n",
    "        even_terms = signal[::2]\n",
    "        odd_terms = signal[1::2]\n",
    "        \n",
    "        # Recursively compute FFT for even and odd terms\n",
    "        f1 = nice_fft(even_terms)\n",
    "        f2 = nice_fft(odd_terms)\n",
    "        \n",
    "        # Combine the results using the Cooley-Tukey FFT algorithm\n",
    "        for k in range(N):\n",
    "            # Calculate the complex exponential term\n",
    "            mult = np.exp(-2 * np.pi * 1j * k / N)\n",
    "            # Determine the index for the even and odd terms\n",
    "            INDEX = (k % int(N / 2))\n",
    "            # Combine the results for the current frequency bin\n",
    "            dft_value = f1[INDEX] + mult * f2[INDEX]\n",
    "            # Append the result for the current frequency bin to the list\n",
    "            res.append(np.round(dft_value, 5))\n",
    "        \n",
    "        # Return the list of DFT coefficients\n",
    "        return res\n",
    "\n",
    "nice_fft([1, 2, 0, 5, 9, 2, 0, 4])"
   ]
  },
  {
   "cell_type": "code",
   "execution_count": 48,
   "id": "4369f42d-9eff-4b21-a920-fad7c2015acf",
   "metadata": {},
   "outputs": [
    {
     "name": "stdout",
     "output_type": "stream",
     "text": [
      "Time taken for simple_dft: 149.81244 seconds\n",
      "Time taken for nice_fft: 1.28395 seconds\n"
     ]
    }
   ],
   "source": [
    "import timeit\n",
    "\n",
    "# Generate a random array of size 2^14 (16384)\n",
    "random_array = np.random.rand(2**14)\n",
    "\n",
    "# Measure the execution time for simple_dft\n",
    "time_simple_dft = timeit.timeit(lambda: simple_dft(random_array), number=1)\n",
    "\n",
    "# Measure the execution time for nice_fft\n",
    "time_nice_fft = timeit.timeit(lambda: nice_fft(random_array), number=1)\n",
    "\n",
    "# Print the results\n",
    "print(f\"Time taken for simple_dft: {time_simple_dft:.5f} seconds\")\n",
    "print(f\"Time taken for nice_fft: {time_nice_fft:.5f} seconds\")"
   ]
  },
  {
   "cell_type": "code",
   "execution_count": 53,
   "id": "c2092db9-0a0c-4da4-90d0-2b5bd3d7156d",
   "metadata": {},
   "outputs": [
    {
     "data": {
      "image/png": "[encoded data removed]",
      "text/plain": [
       "<Figure size 1000x600 with 1 Axes>"
      ]
     },
     "metadata": {},
     "output_type": "display_data"
    }
   ],
   "source": [
    "# Define array sizes to test\n",
    "array_sizes = [2**n for n in range(5, 14)]  # Sizes from 2^5 to 2^14\n",
    "\n",
    "# Measure execution time for each array size\n",
    "time_simple_dft = []\n",
    "time_nice_fft = []\n",
    "\n",
    "for size in array_sizes:\n",
    "    random_array = np.random.rand(size)\n",
    "    time_simple_dft.append(timeit.timeit(lambda: simple_dft(random_array), number=1))\n",
    "    time_nice_fft.append(timeit.timeit(lambda: nice_fft(random_array), number=1))\n",
    "\n",
    "# Plotting\n",
    "import matplotlib.pyplot as plt\n",
    "plt.figure(figsize=(10, 6))\n",
    "plt.plot(array_sizes, time_simple_dft, label='simple_dft')\n",
    "plt.plot(array_sizes, time_nice_fft, label='nice_fft')\n",
    "plt.xlabel('Array Size')\n",
    "plt.ylabel('Time (seconds)')\n",
    "plt.title('Execution Time for simple_dft and nice_fft')\n",
    "plt.legend()\n",
    "plt.show()"
   ]
  }
 ],
 "metadata": {
  "kernelspec": {
   "display_name": "Python 3 (ipykernel)",
   "language": "python",
   "name": "python3"
  },
  "language_info": {
   "codemirror_mode": {
    "name": "ipython",
    "version": 3
   },
   "file_extension": ".py",
   "mimetype": "text/x-python",
   "name": "python",
   "nbconvert_exporter": "python",
   "pygments_lexer": "ipython3",
   "version": "3.11.4"
  }
 },
 "nbformat": 4,
 "nbformat_minor": 5
}
